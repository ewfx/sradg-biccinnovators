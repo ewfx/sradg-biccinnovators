{
 "cells": [
  {
   "cell_type": "code",
   "execution_count": 2,
   "metadata": {},
   "outputs": [],
   "source": [
    "import pandas as pd"
   ]
  },
  {
   "cell_type": "code",
   "execution_count": 7,
   "metadata": {},
   "outputs": [],
   "source": [
    "df = pd.read_csv(\"../data/historical_anomaly_dataset.csv\")"
   ]
  },
  {
   "cell_type": "code",
   "execution_count": 8,
   "metadata": {},
   "outputs": [
    {
     "name": "stdout",
     "output_type": "stream",
     "text": [
      "<class 'pandas.core.frame.DataFrame'>\n",
      "RangeIndex: 1000 entries, 0 to 999\n",
      "Data columns (total 12 columns):\n",
      " #   Column              Non-Null Count  Dtype  \n",
      "---  ------              --------------  -----  \n",
      " 0   As of Date          1000 non-null   object \n",
      " 1   Company             1000 non-null   int64  \n",
      " 2   Account             1000 non-null   int64  \n",
      " 3   AU                  1000 non-null   int64  \n",
      " 4   Currency            1000 non-null   object \n",
      " 5   Primary Account     1000 non-null   object \n",
      " 6   Secondary Account   1000 non-null   object \n",
      " 7   GL Balance          1000 non-null   int64  \n",
      " 8   IHub Balance        1000 non-null   float64\n",
      " 9   Balance Difference  1000 non-null   float64\n",
      " 10  Match Status        1000 non-null   object \n",
      " 11  Comments            1000 non-null   object \n",
      "dtypes: float64(2), int64(4), object(6)\n",
      "memory usage: 93.9+ KB\n"
     ]
    }
   ],
   "source": [
    "df.info()"
   ]
  },
  {
   "cell_type": "code",
   "execution_count": null,
   "metadata": {},
   "outputs": [],
   "source": []
  }
 ],
 "metadata": {
  "kernelspec": {
   "display_name": "env",
   "language": "python",
   "name": "python3"
  },
  "language_info": {
   "codemirror_mode": {
    "name": "ipython",
    "version": 3
   },
   "file_extension": ".py",
   "mimetype": "text/x-python",
   "name": "python",
   "nbconvert_exporter": "python",
   "pygments_lexer": "ipython3",
   "version": "3.9.10"
  }
 },
 "nbformat": 4,
 "nbformat_minor": 2
}
